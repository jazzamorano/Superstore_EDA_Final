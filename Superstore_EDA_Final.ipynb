{
  "nbformat": 4,
  "nbformat_minor": 0,
  "metadata": {
    "colab": {
      "provenance": []
    },
    "kernelspec": {
      "name": "python3",
      "display_name": "Python 3"
    },
    "language_info": {
      "name": "python"
    }
  },
  "cells": [
    {
      "cell_type": "markdown",
      "source": [
        "#Superstore EDA Final\n",
        "*   Cleaning steps, resolving errors, and appropiate data types\n",
        "*   Appropiate descriptive statistics and visualizations\n",
        "*   Ensure all codes are performed\n",
        "*   Codes clearly\n",
        "\n",
        "Jazmin Zamorano"
      ],
      "metadata": {
        "id": "cI0QjeFZItcj"
      }
    },
    {
      "cell_type": "markdown",
      "source": [
        "## Explore Categorical Fields\n",
        "\n",
        "\n",
        "\n",
        "\n",
        "\n",
        "\n"
      ],
      "metadata": {
        "id": "Ili_oGEzUegP"
      }
    },
    {
      "cell_type": "code",
      "source": [
        "data = df['Ship Mode'].value_counts()\n",
        "data"
      ],
      "metadata": {
        "colab": {
          "base_uri": "https://localhost:8080/",
          "height": 158
        },
        "id": "9fCFD2oVU1yI",
        "outputId": "7bd1a61b-6d13-4769-be41-e925dc3f9d46"
      },
      "execution_count": 1,
      "outputs": [
        {
          "output_type": "error",
          "ename": "NameError",
          "evalue": "name 'df' is not defined",
          "traceback": [
            "\u001b[0;31m---------------------------------------------------------------------------\u001b[0m",
            "\u001b[0;31mNameError\u001b[0m                                 Traceback (most recent call last)",
            "\u001b[0;32m<ipython-input-1-77887ffdaf33>\u001b[0m in \u001b[0;36m<cell line: 0>\u001b[0;34m()\u001b[0m\n\u001b[0;32m----> 1\u001b[0;31m \u001b[0mdata\u001b[0m \u001b[0;34m=\u001b[0m \u001b[0mdf\u001b[0m\u001b[0;34m[\u001b[0m\u001b[0;34m'Ship Mode'\u001b[0m\u001b[0;34m]\u001b[0m\u001b[0;34m.\u001b[0m\u001b[0mvalue_counts\u001b[0m\u001b[0;34m(\u001b[0m\u001b[0;34m)\u001b[0m\u001b[0;34m\u001b[0m\u001b[0;34m\u001b[0m\u001b[0m\n\u001b[0m\u001b[1;32m      2\u001b[0m \u001b[0mdata\u001b[0m\u001b[0;34m\u001b[0m\u001b[0;34m\u001b[0m\u001b[0m\n",
            "\u001b[0;31mNameError\u001b[0m: name 'df' is not defined"
          ]
        }
      ]
    },
    {
      "cell_type": "markdown",
      "source": [
        "Here the data about Ship Mode is showing the different classes that there are for the shipping method."
      ],
      "metadata": {
        "id": "dYMLlZohZ5A_"
      }
    },
    {
      "cell_type": "code",
      "source": [
        "data = df['Ship Mode'].value_counts()\n",
        "data.plot.barh();\n"
      ],
      "metadata": {
        "id": "93jfE94gU_4y"
      },
      "execution_count": null,
      "outputs": []
    },
    {
      "cell_type": "markdown",
      "source": [
        "In here you can see that the ship mode values are being expressed in a horizontal graph from less to more based on quantity."
      ],
      "metadata": {
        "id": "iJU4v-M3aBnO"
      }
    },
    {
      "cell_type": "code",
      "source": [
        "data = df['Segment'].value_counts()\n",
        "data.plot.barh();"
      ],
      "metadata": {
        "id": "uzXYMwisYNBO"
      },
      "execution_count": null,
      "outputs": []
    },
    {
      "cell_type": "code",
      "source": [
        "data = df['Region'].value_counts()\n",
        "data.plot.barh();"
      ],
      "metadata": {
        "id": "jnpyZZ7xYQQk"
      },
      "execution_count": null,
      "outputs": []
    },
    {
      "cell_type": "markdown",
      "source": [
        "In here you can see that the region value counts are being expressed from least to more in quantity. Having central asia as the least and Western Europe as the most."
      ],
      "metadata": {
        "id": "ZegqW3-EaRLP"
      }
    },
    {
      "cell_type": "code",
      "source": [
        "data = df['Market'].value_counts()\n",
        "data.plot.barh();"
      ],
      "metadata": {
        "id": "FlYxPmitYUrR"
      },
      "execution_count": null,
      "outputs": []
    },
    {
      "cell_type": "code",
      "source": [
        "data = df['Category'].value_counts()\n",
        "data.plot.barh();"
      ],
      "metadata": {
        "id": "YmmRgDH5YXjD"
      },
      "execution_count": null,
      "outputs": []
    },
    {
      "cell_type": "code",
      "source": [
        "data = df['Sub-Category'].value_counts()\n",
        "data.plot.barh();"
      ],
      "metadata": {
        "id": "HQrCaNMfYaZn"
      },
      "execution_count": null,
      "outputs": []
    },
    {
      "cell_type": "code",
      "source": [
        "data = df['Order Priority'].value_counts()\n",
        "data.plot.barh();"
      ],
      "metadata": {
        "id": "Oqj1CMJbYfbr"
      },
      "execution_count": null,
      "outputs": []
    },
    {
      "cell_type": "code",
      "source": [
        "data = df['Ship Mode'].value_counts(ascending=True)\n",
        "data.plot.barh();"
      ],
      "metadata": {
        "id": "ljqXW0R4VMmv"
      },
      "execution_count": null,
      "outputs": []
    },
    {
      "cell_type": "code",
      "source": [
        "data = df['Segment'].value_counts(ascending=True)\n",
        "data.plot.barh();"
      ],
      "metadata": {
        "id": "FeEPjSJ0YnYa"
      },
      "execution_count": null,
      "outputs": []
    },
    {
      "cell_type": "markdown",
      "source": [
        "Here the graph is showing information about the segments, which are: consumer,corporate, and home office. Data is shown from more to less(ascending values)."
      ],
      "metadata": {
        "id": "tfUNoxTka2ks"
      }
    },
    {
      "cell_type": "code",
      "source": [
        "data = df['Region'].value_counts(ascending=True)\n",
        "data.plot.barh();"
      ],
      "metadata": {
        "id": "Ge3LHL8NYp4q"
      },
      "execution_count": null,
      "outputs": []
    },
    {
      "cell_type": "code",
      "source": [
        "data = df['Market'].value_counts(ascending=True)\n",
        "data.plot.barh();"
      ],
      "metadata": {
        "id": "vbCuL48_YsaP"
      },
      "execution_count": null,
      "outputs": []
    },
    {
      "cell_type": "code",
      "source": [
        "data = df['Category'].value_counts(ascending=True)\n",
        "data.plot.barh();"
      ],
      "metadata": {
        "id": "V4RiEO_RYvYH"
      },
      "execution_count": null,
      "outputs": []
    },
    {
      "cell_type": "code",
      "source": [
        "data = df['Order Priority'].value_counts(ascending=True)\n",
        "data.plot.barh();"
      ],
      "metadata": {
        "id": "tqrI-KTiY183"
      },
      "execution_count": null,
      "outputs": []
    },
    {
      "cell_type": "code",
      "source": [
        "data = df['Ship Mode'].value_counts(ascending=True)\n",
        "data"
      ],
      "metadata": {
        "id": "iNf4EmCxVwwa"
      },
      "execution_count": null,
      "outputs": []
    },
    {
      "cell_type": "code",
      "source": [
        "data = df['Segment'].value_counts(ascending=True)\n",
        "data"
      ],
      "metadata": {
        "id": "uyo1bo2MZGCq"
      },
      "execution_count": null,
      "outputs": []
    },
    {
      "cell_type": "code",
      "source": [
        "data = df['Region'].value_counts(ascending=True)\n",
        "data"
      ],
      "metadata": {
        "id": "kmCU9WvLZJyz"
      },
      "execution_count": null,
      "outputs": []
    },
    {
      "cell_type": "code",
      "source": [
        "data = df['Market'].value_counts(ascending=True)\n",
        "data"
      ],
      "metadata": {
        "id": "gxtGy02YZMmV"
      },
      "execution_count": null,
      "outputs": []
    },
    {
      "cell_type": "markdown",
      "source": [
        "In here we can see that data is presented in form of a table. Showing the values of the different markets from different continents in ascending values. Havinf Africa as the least, and Asia Pacific as the most."
      ],
      "metadata": {
        "id": "ZoItjso7bLRQ"
      }
    },
    {
      "cell_type": "code",
      "source": [
        "data = df['Category'].value_counts(ascending=True)\n",
        "data"
      ],
      "metadata": {
        "id": "ZVHCibc7ZP2l"
      },
      "execution_count": null,
      "outputs": []
    },
    {
      "cell_type": "code",
      "source": [
        "data = df['Sub-Category'].value_counts(ascending=True)\n",
        "data"
      ],
      "metadata": {
        "id": "72NaD_XcZSxJ"
      },
      "execution_count": null,
      "outputs": []
    },
    {
      "cell_type": "code",
      "source": [
        "data = df['Order Priority'].value_counts(ascending=True)\n",
        "data"
      ],
      "metadata": {
        "colab": {
          "base_uri": "https://localhost:8080/",
          "height": 158
        },
        "id": "Z7VhSoh1ZVqX",
        "outputId": "4acf70be-da3e-400c-ae99-f90e7d2a36d7"
      },
      "execution_count": 2,
      "outputs": [
        {
          "output_type": "error",
          "ename": "NameError",
          "evalue": "name 'df' is not defined",
          "traceback": [
            "\u001b[0;31m---------------------------------------------------------------------------\u001b[0m",
            "\u001b[0;31mNameError\u001b[0m                                 Traceback (most recent call last)",
            "\u001b[0;32m<ipython-input-2-8e83716fbfb2>\u001b[0m in \u001b[0;36m<cell line: 0>\u001b[0;34m()\u001b[0m\n\u001b[0;32m----> 1\u001b[0;31m \u001b[0mdata\u001b[0m \u001b[0;34m=\u001b[0m \u001b[0mdf\u001b[0m\u001b[0;34m[\u001b[0m\u001b[0;34m'Order Priority'\u001b[0m\u001b[0;34m]\u001b[0m\u001b[0;34m.\u001b[0m\u001b[0mvalue_counts\u001b[0m\u001b[0;34m(\u001b[0m\u001b[0mascending\u001b[0m\u001b[0;34m=\u001b[0m\u001b[0;32mTrue\u001b[0m\u001b[0;34m)\u001b[0m\u001b[0;34m\u001b[0m\u001b[0;34m\u001b[0m\u001b[0m\n\u001b[0m\u001b[1;32m      2\u001b[0m \u001b[0mdata\u001b[0m\u001b[0;34m\u001b[0m\u001b[0;34m\u001b[0m\u001b[0m\n",
            "\u001b[0;31mNameError\u001b[0m: name 'df' is not defined"
          ]
        }
      ]
    },
    {
      "cell_type": "code",
      "source": [
        "data = df['Ship Mode'].value_counts(normalize=True)\n",
        "data"
      ],
      "metadata": {
        "id": "RAp7jMXZV2kV"
      },
      "execution_count": null,
      "outputs": []
    },
    {
      "cell_type": "code",
      "source": [
        "data = df['Segment'].value_counts(normalize=True)\n",
        "data"
      ],
      "metadata": {
        "id": "ub922Z0LZacd"
      },
      "execution_count": null,
      "outputs": []
    },
    {
      "cell_type": "markdown",
      "source": [
        "In here we can see that data is presented in a form of table. Having the data normalized, so in decimal numbers. Having consumers as the most and home office as the least (smallest value)."
      ],
      "metadata": {
        "id": "gHvJtH-sbsYG"
      }
    },
    {
      "cell_type": "code",
      "source": [
        "data = df['Region'].value_counts(normalize=True)\n",
        "data"
      ],
      "metadata": {
        "id": "QjK4lBg2ZdSq"
      },
      "execution_count": null,
      "outputs": []
    },
    {
      "cell_type": "code",
      "source": [
        "data = df['Market'].value_counts(normalize=True)\n",
        "data"
      ],
      "metadata": {
        "id": "GRdgkvlhZfwn"
      },
      "execution_count": null,
      "outputs": []
    },
    {
      "cell_type": "code",
      "source": [
        "data = df['Category'].value_counts(normalize=True)\n",
        "data"
      ],
      "metadata": {
        "id": "QaiM5bfpZiXJ"
      },
      "execution_count": null,
      "outputs": []
    },
    {
      "cell_type": "code",
      "source": [
        "data = df['Sub-Category'].value_counts(normalize=True)\n",
        "data"
      ],
      "metadata": {
        "colab": {
          "base_uri": "https://localhost:8080/",
          "height": 158
        },
        "id": "KABz2SAtZk8q",
        "outputId": "9bd28e0c-fdb7-4c25-b013-33b433005689"
      },
      "execution_count": 3,
      "outputs": [
        {
          "output_type": "error",
          "ename": "NameError",
          "evalue": "name 'df' is not defined",
          "traceback": [
            "\u001b[0;31m---------------------------------------------------------------------------\u001b[0m",
            "\u001b[0;31mNameError\u001b[0m                                 Traceback (most recent call last)",
            "\u001b[0;32m<ipython-input-3-8a30d0c1716c>\u001b[0m in \u001b[0;36m<cell line: 0>\u001b[0;34m()\u001b[0m\n\u001b[0;32m----> 1\u001b[0;31m \u001b[0mdata\u001b[0m \u001b[0;34m=\u001b[0m \u001b[0mdf\u001b[0m\u001b[0;34m[\u001b[0m\u001b[0;34m'Sub-Category'\u001b[0m\u001b[0;34m]\u001b[0m\u001b[0;34m.\u001b[0m\u001b[0mvalue_counts\u001b[0m\u001b[0;34m(\u001b[0m\u001b[0mnormalize\u001b[0m\u001b[0;34m=\u001b[0m\u001b[0;32mTrue\u001b[0m\u001b[0;34m)\u001b[0m\u001b[0;34m\u001b[0m\u001b[0;34m\u001b[0m\u001b[0m\n\u001b[0m\u001b[1;32m      2\u001b[0m \u001b[0mdata\u001b[0m\u001b[0;34m\u001b[0m\u001b[0;34m\u001b[0m\u001b[0m\n",
            "\u001b[0;31mNameError\u001b[0m: name 'df' is not defined"
          ]
        }
      ]
    },
    {
      "cell_type": "code",
      "source": [
        "data = df['Order Priority'].value_counts(normalize=True)\n",
        "data"
      ],
      "metadata": {
        "id": "Soja__2fZn4f"
      },
      "execution_count": null,
      "outputs": []
    },
    {
      "cell_type": "code",
      "source": [
        "data = df['Ship Mode'].value_counts(ascending=True,normalize=True)\n",
        "data.plot.barh();"
      ],
      "metadata": {
        "id": "bCtoQxzrWDgB"
      },
      "execution_count": null,
      "outputs": []
    },
    {
      "cell_type": "code",
      "source": [
        "data = df['Segment'].value_counts(ascending=True,normalize=True)\n",
        "data.plot.barh();"
      ],
      "metadata": {
        "id": "h3awqvC-WXNg"
      },
      "execution_count": null,
      "outputs": []
    },
    {
      "cell_type": "code",
      "source": [
        "data = df['Region'].value_counts(ascending=True,normalize=True)\n",
        "data.plot.barh();"
      ],
      "metadata": {
        "id": "L6OvcoOCW4ZQ"
      },
      "execution_count": null,
      "outputs": []
    },
    {
      "cell_type": "markdown",
      "source": [
        "Here information is shown in ascending and normalize values. The data is showing information about the different regions.The most is  Western Europe and the least Central Asia. It is showing 23 different regions."
      ],
      "metadata": {
        "id": "ICdlpgZCbzIl"
      }
    },
    {
      "cell_type": "code",
      "source": [
        "data = df['Market'].value_counts(ascending=True,normalize=True)\n",
        "data.plot.barh();"
      ],
      "metadata": {
        "id": "yE6xmWohW7vO"
      },
      "execution_count": null,
      "outputs": []
    },
    {
      "cell_type": "code",
      "source": [
        "data = df['Category'].value_counts(ascending=True,normalize=True)\n",
        "data.plot.barh();"
      ],
      "metadata": {
        "colab": {
          "base_uri": "https://localhost:8080/",
          "height": 158
        },
        "id": "m6dnhl2zW_sB",
        "outputId": "c7fe2b42-1575-44d8-8347-276b0ddcd630"
      },
      "execution_count": 4,
      "outputs": [
        {
          "output_type": "error",
          "ename": "NameError",
          "evalue": "name 'df' is not defined",
          "traceback": [
            "\u001b[0;31m---------------------------------------------------------------------------\u001b[0m",
            "\u001b[0;31mNameError\u001b[0m                                 Traceback (most recent call last)",
            "\u001b[0;32m<ipython-input-4-a6bec4fcecfc>\u001b[0m in \u001b[0;36m<cell line: 0>\u001b[0;34m()\u001b[0m\n\u001b[0;32m----> 1\u001b[0;31m \u001b[0mdata\u001b[0m \u001b[0;34m=\u001b[0m \u001b[0mdf\u001b[0m\u001b[0;34m[\u001b[0m\u001b[0;34m'Category'\u001b[0m\u001b[0;34m]\u001b[0m\u001b[0;34m.\u001b[0m\u001b[0mvalue_counts\u001b[0m\u001b[0;34m(\u001b[0m\u001b[0mascending\u001b[0m\u001b[0;34m=\u001b[0m\u001b[0;32mTrue\u001b[0m\u001b[0;34m,\u001b[0m\u001b[0mnormalize\u001b[0m\u001b[0;34m=\u001b[0m\u001b[0;32mTrue\u001b[0m\u001b[0;34m)\u001b[0m\u001b[0;34m\u001b[0m\u001b[0;34m\u001b[0m\u001b[0m\n\u001b[0m\u001b[1;32m      2\u001b[0m \u001b[0mdata\u001b[0m\u001b[0;34m.\u001b[0m\u001b[0mplot\u001b[0m\u001b[0;34m.\u001b[0m\u001b[0mbarh\u001b[0m\u001b[0;34m(\u001b[0m\u001b[0;34m)\u001b[0m\u001b[0;34m;\u001b[0m\u001b[0;34m\u001b[0m\u001b[0;34m\u001b[0m\u001b[0m\n",
            "\u001b[0;31mNameError\u001b[0m: name 'df' is not defined"
          ]
        }
      ]
    },
    {
      "cell_type": "code",
      "source": [
        "data = df['Sub-Category'].value_counts(ascending=True,normalize=True)\n",
        "data.plot.barh();"
      ],
      "metadata": {
        "id": "TREb7vCAXCsU"
      },
      "execution_count": null,
      "outputs": []
    },
    {
      "cell_type": "code",
      "source": [
        "data = df['Order Priority'].value_counts(ascending=True,normalize=True)\n",
        "data.plot.barh();"
      ],
      "metadata": {
        "id": "5AxucOLmXHbO"
      },
      "execution_count": null,
      "outputs": []
    },
    {
      "cell_type": "code",
      "source": [
        "data = df['Segment'].value_counts()\n",
        "data"
      ],
      "metadata": {
        "colab": {
          "base_uri": "https://localhost:8080/",
          "height": 158
        },
        "id": "S0BquKTUXQM8",
        "outputId": "7edd5ccc-75c8-43a0-9929-3a30c18a6e24"
      },
      "execution_count": 5,
      "outputs": [
        {
          "output_type": "error",
          "ename": "NameError",
          "evalue": "name 'df' is not defined",
          "traceback": [
            "\u001b[0;31m---------------------------------------------------------------------------\u001b[0m",
            "\u001b[0;31mNameError\u001b[0m                                 Traceback (most recent call last)",
            "\u001b[0;32m<ipython-input-5-a75ad77891ea>\u001b[0m in \u001b[0;36m<cell line: 0>\u001b[0;34m()\u001b[0m\n\u001b[0;32m----> 1\u001b[0;31m \u001b[0mdata\u001b[0m \u001b[0;34m=\u001b[0m \u001b[0mdf\u001b[0m\u001b[0;34m[\u001b[0m\u001b[0;34m'Segment'\u001b[0m\u001b[0;34m]\u001b[0m\u001b[0;34m.\u001b[0m\u001b[0mvalue_counts\u001b[0m\u001b[0;34m(\u001b[0m\u001b[0;34m)\u001b[0m\u001b[0;34m\u001b[0m\u001b[0;34m\u001b[0m\u001b[0m\n\u001b[0m\u001b[1;32m      2\u001b[0m \u001b[0mdata\u001b[0m\u001b[0;34m\u001b[0m\u001b[0;34m\u001b[0m\u001b[0m\n",
            "\u001b[0;31mNameError\u001b[0m: name 'df' is not defined"
          ]
        }
      ]
    },
    {
      "cell_type": "code",
      "source": [
        "data = df['Region'].value_counts()\n",
        "data"
      ],
      "metadata": {
        "colab": {
          "base_uri": "https://localhost:8080/",
          "height": 158
        },
        "id": "geba_AzIXTQX",
        "outputId": "76828d5e-9c71-41e7-9a00-e511235c17d2"
      },
      "execution_count": 6,
      "outputs": [
        {
          "output_type": "error",
          "ename": "NameError",
          "evalue": "name 'df' is not defined",
          "traceback": [
            "\u001b[0;31m---------------------------------------------------------------------------\u001b[0m",
            "\u001b[0;31mNameError\u001b[0m                                 Traceback (most recent call last)",
            "\u001b[0;32m<ipython-input-6-0c16c1326512>\u001b[0m in \u001b[0;36m<cell line: 0>\u001b[0;34m()\u001b[0m\n\u001b[0;32m----> 1\u001b[0;31m \u001b[0mdata\u001b[0m \u001b[0;34m=\u001b[0m \u001b[0mdf\u001b[0m\u001b[0;34m[\u001b[0m\u001b[0;34m'Region'\u001b[0m\u001b[0;34m]\u001b[0m\u001b[0;34m.\u001b[0m\u001b[0mvalue_counts\u001b[0m\u001b[0;34m(\u001b[0m\u001b[0;34m)\u001b[0m\u001b[0;34m\u001b[0m\u001b[0;34m\u001b[0m\u001b[0m\n\u001b[0m\u001b[1;32m      2\u001b[0m \u001b[0mdata\u001b[0m\u001b[0;34m\u001b[0m\u001b[0;34m\u001b[0m\u001b[0m\n",
            "\u001b[0;31mNameError\u001b[0m: name 'df' is not defined"
          ]
        }
      ]
    },
    {
      "cell_type": "code",
      "source": [
        "data = df['Market'].value_counts()\n",
        "data"
      ],
      "metadata": {
        "id": "GfhHeziaXWH-"
      },
      "execution_count": null,
      "outputs": []
    },
    {
      "cell_type": "markdown",
      "source": [
        "Here market data is shown in form of a table. Having only 5 different markets. Asis Pacific as the greatest and Africa as the least with 4587."
      ],
      "metadata": {
        "id": "ypZZVISccIxg"
      }
    },
    {
      "cell_type": "code",
      "source": [
        "data = df['Category'].value_counts()\n",
        "data"
      ],
      "metadata": {
        "id": "5BaqemdZXY3D"
      },
      "execution_count": null,
      "outputs": []
    },
    {
      "cell_type": "code",
      "source": [
        "data = df['Sub-Category'].value_counts()\n",
        "data"
      ],
      "metadata": {
        "id": "R9CTEGvXXbcc"
      },
      "execution_count": null,
      "outputs": []
    },
    {
      "cell_type": "code",
      "source": [
        "data = df['Order Priority'].value_counts()\n",
        "data"
      ],
      "metadata": {
        "id": "NaiG8lOpX-qC"
      },
      "execution_count": null,
      "outputs": []
    },
    {
      "cell_type": "markdown",
      "source": [
        "## Cleaning Steps"
      ],
      "metadata": {
        "id": "syiGkFk0qWrH"
      }
    },
    {
      "cell_type": "code",
      "source": [
        "import pandas as pd"
      ],
      "metadata": {
        "id": "LGQerq80sZ27"
      },
      "execution_count": null,
      "outputs": []
    },
    {
      "cell_type": "code",
      "source": [
        "run_times = pd.read_excel('/content/drive/MyDrive/Descriptive Analytics 01/Superstore EDA/Data/Global_Superstore_Orders_2012_2015.xlsx')"
      ],
      "metadata": {
        "id": "2YWw7sXasccm"
      },
      "execution_count": null,
      "outputs": []
    },
    {
      "cell_type": "code",
      "source": [
        "run_times"
      ],
      "metadata": {
        "colab": {
          "base_uri": "https://localhost:8080/",
          "height": 141
        },
        "id": "ieuNRJ6IsJow",
        "outputId": "728938ba-1990-4727-a255-327ff6da7e7e"
      },
      "execution_count": 7,
      "outputs": [
        {
          "output_type": "error",
          "ename": "NameError",
          "evalue": "name 'run_times' is not defined",
          "traceback": [
            "\u001b[0;31m---------------------------------------------------------------------------\u001b[0m",
            "\u001b[0;31mNameError\u001b[0m                                 Traceback (most recent call last)",
            "\u001b[0;32m<ipython-input-7-45bf3d365f64>\u001b[0m in \u001b[0;36m<cell line: 0>\u001b[0;34m()\u001b[0m\n\u001b[0;32m----> 1\u001b[0;31m \u001b[0mrun_times\u001b[0m\u001b[0;34m\u001b[0m\u001b[0;34m\u001b[0m\u001b[0m\n\u001b[0m",
            "\u001b[0;31mNameError\u001b[0m: name 'run_times' is not defined"
          ]
        }
      ]
    },
    {
      "cell_type": "code",
      "source": [
        "run_times.info()"
      ],
      "metadata": {
        "id": "4FWysW7rvy9x"
      },
      "execution_count": null,
      "outputs": []
    },
    {
      "cell_type": "code",
      "source": [
        "run_times.head()"
      ],
      "metadata": {
        "colab": {
          "base_uri": "https://localhost:8080/",
          "height": 141
        },
        "id": "KFw7w-47x4fg",
        "outputId": "1886d9bf-16d9-4816-8cff-d68f0f05cdef"
      },
      "execution_count": 8,
      "outputs": [
        {
          "output_type": "error",
          "ename": "NameError",
          "evalue": "name 'run_times' is not defined",
          "traceback": [
            "\u001b[0;31m---------------------------------------------------------------------------\u001b[0m",
            "\u001b[0;31mNameError\u001b[0m                                 Traceback (most recent call last)",
            "\u001b[0;32m<ipython-input-8-dfc31e7c4b1a>\u001b[0m in \u001b[0;36m<cell line: 0>\u001b[0;34m()\u001b[0m\n\u001b[0;32m----> 1\u001b[0;31m \u001b[0mrun_times\u001b[0m\u001b[0;34m.\u001b[0m\u001b[0mhead\u001b[0m\u001b[0;34m(\u001b[0m\u001b[0;34m)\u001b[0m\u001b[0;34m\u001b[0m\u001b[0;34m\u001b[0m\u001b[0m\n\u001b[0m",
            "\u001b[0;31mNameError\u001b[0m: name 'run_times' is not defined"
          ]
        }
      ]
    },
    {
      "cell_type": "markdown",
      "source": [
        "### Converting Data Types"
      ],
      "metadata": {
        "id": "VXcCwiHNxn_d"
      }
    },
    {
      "cell_type": "code",
      "source": [
        "import pandas as pd"
      ],
      "metadata": {
        "id": "3tXCY4-WxWmD"
      },
      "execution_count": null,
      "outputs": []
    },
    {
      "cell_type": "code",
      "source": [
        "pd.read_excel('/content/drive/MyDrive/Descriptive Analytics 01/Superstore EDA/Data/Global_Superstore_Orders_2012_2015.xlsx')"
      ],
      "metadata": {
        "id": "Qv5kGWSqztXd"
      },
      "execution_count": null,
      "outputs": []
    },
    {
      "cell_type": "code",
      "source": [
        "df.dtypes"
      ],
      "metadata": {
        "id": "1Z_Jzshjzz_d"
      },
      "execution_count": null,
      "outputs": []
    },
    {
      "cell_type": "code",
      "source": [
        "print(df.columns)"
      ],
      "metadata": {
        "id": "z1ormOOi0fjV"
      },
      "execution_count": null,
      "outputs": []
    },
    {
      "cell_type": "code",
      "source": [
        "df"
      ],
      "metadata": {
        "id": "MF5fNQQ40MMZ"
      },
      "execution_count": null,
      "outputs": []
    },
    {
      "cell_type": "markdown",
      "source": [
        "### Missing Data\n",
        "\n",
        "There are various ways to represent missing data in python:\n",
        "-Np.NaN\n",
        "-pd.NA\n",
        "-None"
      ],
      "metadata": {
        "id": "nvIuqGu21fEr"
      }
    },
    {
      "cell_type": "code",
      "source": [
        "df.isna().any()"
      ],
      "metadata": {
        "id": "NHDh9LYn15Jp"
      },
      "execution_count": null,
      "outputs": []
    },
    {
      "cell_type": "code",
      "source": [
        "df.isna().sum().sum()"
      ],
      "metadata": {
        "id": "BjADHKbC2FDW"
      },
      "execution_count": null,
      "outputs": []
    },
    {
      "cell_type": "code",
      "source": [
        "run_times.Profit.astype('int')"
      ],
      "metadata": {
        "id": "c2JbaMOy2IGL"
      },
      "execution_count": null,
      "outputs": []
    },
    {
      "cell_type": "markdown",
      "source": [
        "### Missing Data"
      ],
      "metadata": {
        "id": "KFYopoFW2VH1"
      }
    },
    {
      "cell_type": "code",
      "source": [
        "df= pd.read_excel('/content/drive/MyDrive/Descriptive Analytics 01/Superstore EDA/Data/Global_Superstore_Orders_2012_2015.xlsx')"
      ],
      "metadata": {
        "id": "9VSfB0_e2NwP"
      },
      "execution_count": null,
      "outputs": []
    },
    {
      "cell_type": "code",
      "source": [
        "df.tail()"
      ],
      "metadata": {
        "id": "yOIvB2Pf2dqW"
      },
      "execution_count": null,
      "outputs": []
    },
    {
      "cell_type": "code",
      "source": [
        "df.info()"
      ],
      "metadata": {
        "id": "jgQ0JC9O2vI5"
      },
      "execution_count": null,
      "outputs": []
    },
    {
      "cell_type": "code",
      "source": [
        "df.value_counts()"
      ],
      "metadata": {
        "colab": {
          "base_uri": "https://localhost:8080/",
          "height": 141
        },
        "id": "DuYmaCV720Ic",
        "outputId": "3a8d9b94-b953-4442-80f8-d503078bc96c"
      },
      "execution_count": 9,
      "outputs": [
        {
          "output_type": "error",
          "ename": "NameError",
          "evalue": "name 'df' is not defined",
          "traceback": [
            "\u001b[0;31m---------------------------------------------------------------------------\u001b[0m",
            "\u001b[0;31mNameError\u001b[0m                                 Traceback (most recent call last)",
            "\u001b[0;32m<ipython-input-9-986e25863b45>\u001b[0m in \u001b[0;36m<cell line: 0>\u001b[0;34m()\u001b[0m\n\u001b[0;32m----> 1\u001b[0;31m \u001b[0mdf\u001b[0m\u001b[0;34m.\u001b[0m\u001b[0mvalue_counts\u001b[0m\u001b[0;34m(\u001b[0m\u001b[0;34m)\u001b[0m\u001b[0;34m\u001b[0m\u001b[0;34m\u001b[0m\u001b[0m\n\u001b[0m",
            "\u001b[0;31mNameError\u001b[0m: name 'df' is not defined"
          ]
        }
      ]
    },
    {
      "cell_type": "code",
      "source": [
        "df.isna()"
      ],
      "metadata": {
        "id": "ocFeAX6F3AhK"
      },
      "execution_count": null,
      "outputs": []
    },
    {
      "cell_type": "code",
      "source": [
        "df[df.isna().any(axis=1)]"
      ],
      "metadata": {
        "id": "W3-jcLHp3Rxs"
      },
      "execution_count": null,
      "outputs": []
    },
    {
      "cell_type": "markdown",
      "source": [
        "### Handling Missing Data"
      ],
      "metadata": {
        "id": "6PAN20kN3h5s"
      }
    },
    {
      "cell_type": "code",
      "source": [
        " df"
      ],
      "metadata": {
        "id": "YEdTNjYa3eTr"
      },
      "execution_count": null,
      "outputs": []
    },
    {
      "cell_type": "code",
      "source": [
        "df[\"Profit\"].count()"
      ],
      "metadata": {
        "id": "UhoWdJzK5bJn"
      },
      "execution_count": null,
      "outputs": []
    },
    {
      "cell_type": "markdown",
      "source": [
        "### Removing Missing Data"
      ],
      "metadata": {
        "id": "8zOQuMDY5zPW"
      }
    },
    {
      "cell_type": "code",
      "source": [
        "df.dropna()"
      ],
      "metadata": {
        "id": "XW6rMgbG5l7x"
      },
      "execution_count": null,
      "outputs": []
    },
    {
      "cell_type": "code",
      "source": [
        "df.dropna(how=\"all\")"
      ],
      "metadata": {
        "id": "b1ZZaoRU5xFi"
      },
      "execution_count": null,
      "outputs": []
    },
    {
      "cell_type": "code",
      "source": [
        "df.dropna(subset=[\"Segment\"])"
      ],
      "metadata": {
        "id": "WArK2SR65_tM"
      },
      "execution_count": null,
      "outputs": []
    },
    {
      "cell_type": "code",
      "source": [
        "df[df.isna().any(axis=1)].dropna(subset=['Segment', 'Profit'])"
      ],
      "metadata": {
        "id": "pumF-n9l6HY2"
      },
      "execution_count": null,
      "outputs": []
    },
    {
      "cell_type": "code",
      "source": [
        "df[df.isna().any(axis=1)]"
      ],
      "metadata": {
        "id": "PFj5XpvC6nD1"
      },
      "execution_count": null,
      "outputs": []
    },
    {
      "cell_type": "code",
      "source": [
        "df.Profit.mean()"
      ],
      "metadata": {
        "colab": {
          "base_uri": "https://localhost:8080/",
          "height": 141
        },
        "id": "swQDrvWl1KmZ",
        "outputId": "f53beef8-1c87-4be0-f077-d7073683322f"
      },
      "execution_count": 10,
      "outputs": [
        {
          "output_type": "error",
          "ename": "NameError",
          "evalue": "name 'df' is not defined",
          "traceback": [
            "\u001b[0;31m---------------------------------------------------------------------------\u001b[0m",
            "\u001b[0;31mNameError\u001b[0m                                 Traceback (most recent call last)",
            "\u001b[0;32m<ipython-input-10-04f3d84af60f>\u001b[0m in \u001b[0;36m<cell line: 0>\u001b[0;34m()\u001b[0m\n\u001b[0;32m----> 1\u001b[0;31m \u001b[0mdf\u001b[0m\u001b[0;34m.\u001b[0m\u001b[0mProfit\u001b[0m\u001b[0;34m.\u001b[0m\u001b[0mmean\u001b[0m\u001b[0;34m(\u001b[0m\u001b[0;34m)\u001b[0m\u001b[0;34m\u001b[0m\u001b[0;34m\u001b[0m\u001b[0m\n\u001b[0m",
            "\u001b[0;31mNameError\u001b[0m: name 'df' is not defined"
          ]
        }
      ]
    },
    {
      "cell_type": "markdown",
      "source": [
        "### Resolving Missing Data"
      ],
      "metadata": {
        "id": "mHXXxE8F3R1b"
      }
    },
    {
      "cell_type": "code",
      "source": [
        "df[df.isna().any(axis=1)]"
      ],
      "metadata": {
        "id": "_0mjt6mx3I1H"
      },
      "execution_count": null,
      "outputs": []
    },
    {
      "cell_type": "code",
      "source": [
        "df[df.Sales == 'Shipping Cost']"
      ],
      "metadata": {
        "id": "DBA3nEz63f0R"
      },
      "execution_count": null,
      "outputs": []
    },
    {
      "cell_type": "markdown",
      "source": [
        "### Inconsistent Text & Typos\n",
        "\n",
        "It is represented by vlaues that are either:\n",
        "-Incorrect by a few digits or characters\n",
        "-Inconsistent with the rest of a column"
      ],
      "metadata": {
        "id": "INe-3KBAP-N9"
      }
    },
    {
      "cell_type": "code",
      "source": [
        "df.Profit.describe()"
      ],
      "metadata": {
        "id": "FmYHi6AGRWHP"
      },
      "execution_count": null,
      "outputs": []
    },
    {
      "cell_type": "markdown",
      "source": [
        "### Updating Values Based on a Logical Condition"
      ],
      "metadata": {
        "id": "tn4HfYgPUX90"
      }
    },
    {
      "cell_type": "code",
      "source": [
        "df.Profit.value_counts()"
      ],
      "metadata": {
        "id": "Z-hf5-1QRapj"
      },
      "execution_count": null,
      "outputs": []
    },
    {
      "cell_type": "code",
      "source": [
        "df.Profit = np.where(df.Profit =='Python', 'Intro to Python', df.Profit)\n",
        "df.Profit"
      ],
      "metadata": {
        "id": "77-I8ldzUyrD"
      },
      "execution_count": null,
      "outputs": []
    },
    {
      "cell_type": "markdown",
      "source": [
        "### Map Values"
      ],
      "metadata": {
        "id": "oocFVem7V3SU"
      }
    },
    {
      "cell_type": "code",
      "source": [
        "# map multiple state values to one abbreviation\n",
        "state_mapping = {'AL': 'AL',\n",
        "                 'Alabama': 'AL',\n",
        "                 'NY': 'NY',\n",
        "                 'New York': 'NY'}"
      ],
      "metadata": {
        "id": "dkWC62AxVIPT"
      },
      "execution_count": null,
      "outputs": []
    },
    {
      "cell_type": "code",
      "source": [
        "#use the map method to create a new column\n",
        "df['State_Clean'] = df.State.map(state_mapping)\n",
        "df"
      ],
      "metadata": {
        "id": "QOwIKiYNWOBt"
      },
      "execution_count": null,
      "outputs": []
    },
    {
      "cell_type": "markdown",
      "source": [
        "## Time Series (Dates)\n",
        "\n",
        "Explore our data over time using Order Date"
      ],
      "metadata": {
        "id": "YIt9fKE868eB"
      }
    },
    {
      "cell_type": "code",
      "source": [
        "# Group sales by Year and Month\n",
        "# creates a new dataframe: monthly_sales\n",
        "monthly_sales = df.groupby(df['Order Date'].dt.to_period('M'))['Sales'].sum().reset_index()\n",
        "monthly_sales['Order Date'] = monthly_sales['Order Date'].astype(str) # Convert to string for plotting\n",
        "monthly_sales.head()"
      ],
      "metadata": {
        "id": "2NLtj-Hh67X-"
      },
      "execution_count": null,
      "outputs": []
    },
    {
      "cell_type": "code",
      "source": [
        "monthly_sales"
      ],
      "metadata": {
        "id": "GUauBkL470Vl"
      },
      "execution_count": null,
      "outputs": []
    },
    {
      "cell_type": "code",
      "source": [
        "monthly_sales.info()"
      ],
      "metadata": {
        "id": "NruCOXTVAeFz"
      },
      "execution_count": null,
      "outputs": []
    },
    {
      "cell_type": "code",
      "source": [
        "import matplotlib.pyplot as plt  # Ensure this is included at the top of your code\n",
        "\n",
        "# Plot the line chart using Matplotlib\n",
        "plt.figure(figsize=(12,6))\n",
        "plt.plot(monthly_sales['Order Date'], monthly_sales['Sales'], marker='o', linestyle='-')\n",
        "\n",
        "# Formatting the plot\n",
        "plt.title('Sales by Month', fontsize=14)\n",
        "plt.xlabel('Month', fontsize=12)\n",
        "plt.ylabel('Total Sales', fontsize=12)\n",
        "plt.xticks(rotation=90) # Rotate x-axis labels for readability\n",
        "# plt.grid(axis='y', linestyle='--', linewidth=0.5, alpha=0.6)\n",
        "\n",
        "# Show the plot\n",
        "plt.show()"
      ],
      "metadata": {
        "id": "pL5VmBF5AoPg"
      },
      "execution_count": null,
      "outputs": []
    },
    {
      "cell_type": "code",
      "source": [
        "# Create a Sales by Quarter Dataframe\n",
        "# Group sales data by Year and Quarter\n",
        "# creates a new dataframe: monthly_sales\n",
        "monthly_sales = df.groupby(df['Order Date'].dt.to_period('M'))['Sales'].sum().reset_index()\n",
        "monthly_sales['Order Date'] = monthly_sales['Order Date'].astype(str) # Convert to string for plotting\n",
        "monthly_sales.head()"
      ],
      "metadata": {
        "id": "QwZZSp5gCR_I"
      },
      "execution_count": null,
      "outputs": []
    },
    {
      "cell_type": "code",
      "source": [
        "# Group sales by Quarter\n",
        "quarterly_sales = df.groupby(df['Order Date'].dt.to_period('Q'))['Sales'].sum().reset_index()\n",
        "\n",
        "# Convert 'Order Date' to string for better plotting\n",
        "quarterly_sales['Order Date'] = quarterly_sales['Order Date'].astype(str)\n",
        "\n",
        "# Display the first 10 rows\n",
        "quarterly_sales.head(10)"
      ],
      "metadata": {
        "colab": {
          "base_uri": "https://localhost:8080/",
          "height": 228
        },
        "id": "kO6YGODFNTrB",
        "outputId": "099a5521-c225-4235-8de9-05ecb3c8d0f2"
      },
      "execution_count": 11,
      "outputs": [
        {
          "output_type": "error",
          "ename": "NameError",
          "evalue": "name 'df' is not defined",
          "traceback": [
            "\u001b[0;31m---------------------------------------------------------------------------\u001b[0m",
            "\u001b[0;31mNameError\u001b[0m                                 Traceback (most recent call last)",
            "\u001b[0;32m<ipython-input-11-64f772fa18e6>\u001b[0m in \u001b[0;36m<cell line: 0>\u001b[0;34m()\u001b[0m\n\u001b[1;32m      1\u001b[0m \u001b[0;31m# Group sales by Quarter\u001b[0m\u001b[0;34m\u001b[0m\u001b[0;34m\u001b[0m\u001b[0m\n\u001b[0;32m----> 2\u001b[0;31m \u001b[0mquarterly_sales\u001b[0m \u001b[0;34m=\u001b[0m \u001b[0mdf\u001b[0m\u001b[0;34m.\u001b[0m\u001b[0mgroupby\u001b[0m\u001b[0;34m(\u001b[0m\u001b[0mdf\u001b[0m\u001b[0;34m[\u001b[0m\u001b[0;34m'Order Date'\u001b[0m\u001b[0;34m]\u001b[0m\u001b[0;34m.\u001b[0m\u001b[0mdt\u001b[0m\u001b[0;34m.\u001b[0m\u001b[0mto_period\u001b[0m\u001b[0;34m(\u001b[0m\u001b[0;34m'Q'\u001b[0m\u001b[0;34m)\u001b[0m\u001b[0;34m)\u001b[0m\u001b[0;34m[\u001b[0m\u001b[0;34m'Sales'\u001b[0m\u001b[0;34m]\u001b[0m\u001b[0;34m.\u001b[0m\u001b[0msum\u001b[0m\u001b[0;34m(\u001b[0m\u001b[0;34m)\u001b[0m\u001b[0;34m.\u001b[0m\u001b[0mreset_index\u001b[0m\u001b[0;34m(\u001b[0m\u001b[0;34m)\u001b[0m\u001b[0;34m\u001b[0m\u001b[0;34m\u001b[0m\u001b[0m\n\u001b[0m\u001b[1;32m      3\u001b[0m \u001b[0;34m\u001b[0m\u001b[0m\n\u001b[1;32m      4\u001b[0m \u001b[0;31m# Convert 'Order Date' to string for better plotting\u001b[0m\u001b[0;34m\u001b[0m\u001b[0;34m\u001b[0m\u001b[0m\n\u001b[1;32m      5\u001b[0m \u001b[0mquarterly_sales\u001b[0m\u001b[0;34m[\u001b[0m\u001b[0;34m'Order Date'\u001b[0m\u001b[0;34m]\u001b[0m \u001b[0;34m=\u001b[0m \u001b[0mquarterly_sales\u001b[0m\u001b[0;34m[\u001b[0m\u001b[0;34m'Order Date'\u001b[0m\u001b[0;34m]\u001b[0m\u001b[0;34m.\u001b[0m\u001b[0mastype\u001b[0m\u001b[0;34m(\u001b[0m\u001b[0mstr\u001b[0m\u001b[0;34m)\u001b[0m\u001b[0;34m\u001b[0m\u001b[0;34m\u001b[0m\u001b[0m\n",
            "\u001b[0;31mNameError\u001b[0m: name 'df' is not defined"
          ]
        }
      ]
    },
    {
      "cell_type": "code",
      "source": [
        "import pandas as pd\n",
        "\n",
        "# Assuming 'df' is your DataFrame and 'Order Date' is a datetime column\n",
        "df['Order Date'] = pd.to_datetime(df['Order Date'])\n",
        "\n",
        "# Create a new column for Year-Quarter\n",
        "df['Year-Quarter'] = df['Order Date'].dt.to_period('Q')\n",
        "\n",
        "# Group by the 'Year-Quarter' and sum the sales\n",
        "quarterly_sales = df.groupby('Year-Quarter')['Sales'].sum().reset_index()\n",
        "\n",
        "# Display the result\n",
        "print(quarterly_sales)"
      ],
      "metadata": {
        "id": "LBYK-R0tUa_X"
      },
      "execution_count": null,
      "outputs": []
    },
    {
      "cell_type": "code",
      "source": [
        "import matplotlib.pyplot as plt\n",
        "\n",
        "# Plot the line chart using Matplotlib\n",
        "plt.figure(figsize=(12,6))\n",
        "plt.plot(quarterly_sales['Year-Quarter'].astype(str), quarterly_sales['Sales'], marker='o')\n",
        "\n",
        "# Formatting the plot\n",
        "plt.title('Sales by Quarter', fontsize=14)\n",
        "plt.xlabel('Quarter', fontsize=12)\n",
        "plt.ylabel('Total Sales', fontsize=12)\n",
        "plt.xticks(rotation=90)  # Rotate x-axis labels for readability\n",
        "plt.grid(axis='y', linestyle='-', linewidth=0.5, alpha=0.6)\n",
        "\n",
        "plt.show()"
      ],
      "metadata": {
        "id": "dMDbd_nt49sm"
      },
      "execution_count": null,
      "outputs": []
    },
    {
      "cell_type": "markdown",
      "source": [
        "## Time Series using the Resample Method"
      ],
      "metadata": {
        "id": "YGippcs47hXg"
      }
    },
    {
      "cell_type": "code",
      "source": [
        "monthly_sales_rs = df.resample('ME', on='Order Date')['Sales'].sum().reset_index()"
      ],
      "metadata": {
        "id": "UaV0lAFy7uTf"
      },
      "execution_count": null,
      "outputs": []
    },
    {
      "cell_type": "code",
      "source": [
        "monthly_sales_rs.head(30)"
      ],
      "metadata": {
        "id": "-ljLERgT8V_l"
      },
      "execution_count": null,
      "outputs": []
    },
    {
      "cell_type": "code",
      "source": [
        "import matplotlib.pyplot as plt\n",
        "\n",
        "# Plot the line chart using Matplotlib\n",
        "plt.figure(figsize=(12,6))\n",
        "plt.plot(monthly_sales_rs['Order Date'], monthly_sales_rs['Sales'])\n",
        "\n",
        "# Formatting the plot\n",
        "plt.title('Sales by Month', fontsize=14)\n",
        "plt.xlabel('Month', fontsize=12)\n",
        "plt.ylabel('Total Sales', fontsize=12)\n",
        "plt.xticks(rotation=90)  # Rotate x-axis labels for readability\n",
        "plt.grid(axis='y', linestyle='-', linewidth=0.5, alpha=0.6)\n",
        "\n",
        "#Show the plot\n",
        "plt.show()"
      ],
      "metadata": {
        "id": "I70GXqSV874M"
      },
      "execution_count": null,
      "outputs": []
    },
    {
      "cell_type": "code",
      "source": [
        "quarterly_sales_rs = df.resample('QE', on='Order Date')['Sales'].sum().reset_index()\n",
        "quarterly_sales_rs"
      ],
      "metadata": {
        "id": "QoIPcaVn9mdY"
      },
      "execution_count": null,
      "outputs": []
    },
    {
      "cell_type": "code",
      "source": [
        "import matplotlib.pyplot as plt  # Ensure this is included at the top of your code\n",
        "\n",
        "# Display Quarterly Sales using Resample\n",
        "quarterly_sales_rs = df.resample('QE', on='Order Date')['Sales'].sum().reset_index()\n",
        "\n",
        "# Plot the line chart using Matplotlib\n",
        "plt.figure(figsize=(12,6))\n",
        "plt.plot(quarterly_sales_rs['Order Date'], quarterly_sales['Sales'])\n",
        "\n",
        "# Formatting the plot\n",
        "plt.title('Sales by Quarter', fontsize=14)\n",
        "plt.xlabel('Quarter', fontsize=12)\n",
        "plt.ylabel('Total Sales', fontsize=12)\n",
        "plt.xticks(rotation=90) # Rotate x-axis labels for readability\n",
        "# plt.grid(axis='y', linestyle='--', linewidth=0.5, alpha=0.6)\n",
        "\n",
        "# Show the plot\n",
        "plt.show()"
      ],
      "metadata": {
        "id": "OdBipjrl_5Rv"
      },
      "execution_count": null,
      "outputs": []
    }
  ]
}